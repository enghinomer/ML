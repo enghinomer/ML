{
 "cells": [
  {
   "cell_type": "markdown",
   "metadata": {},
   "source": [
    "# Linear Models for Classification"
   ]
  },
  {
   "cell_type": "markdown",
   "metadata": {},
   "source": [
    "There are three approaches for classification problems:\n",
    "- constructing a discriminant function\n",
    "- modeling the conditional probability distribution $p(C_{k}|x)$ directly\n",
    "- modeling the conditional probability distribution $p(C_{k}|x)$ in a generative way\n",
    "\n",
    "The second approach is called discriminant classifier and tries to estimante the parameters for $p(C_{k}|x)$ directly from the training data. The generative way, on the other hand model the class-conditional densities\n",
    "given by $p(x|C_{k})$, together with the prior probabilities $p(C_{k})$ and then compute the posterior probabilities using Bayes’ theorem:\n",
    "\n",
    "$$ p(C_{k}|x) = \\frac{p(x|C_{k})p(C_{k})}{p(x)} $$"
   ]
  },
  {
   "cell_type": "code",
   "execution_count": null,
   "metadata": {},
   "outputs": [],
   "source": []
  }
 ],
 "metadata": {
  "kernelspec": {
   "display_name": "Python 3",
   "language": "python",
   "name": "python3"
  },
  "language_info": {
   "codemirror_mode": {
    "name": "ipython",
    "version": 3
   },
   "file_extension": ".py",
   "mimetype": "text/x-python",
   "name": "python",
   "nbconvert_exporter": "python",
   "pygments_lexer": "ipython3",
   "version": "3.7.4"
  }
 },
 "nbformat": 4,
 "nbformat_minor": 2
}
