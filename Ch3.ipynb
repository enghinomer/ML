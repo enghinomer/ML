{
 "cells": [
  {
   "cell_type": "code",
   "execution_count": 3,
   "metadata": {},
   "outputs": [],
   "source": [
    "import numpy as np\n",
    "import matplotlib.pyplot as plt\n",
    "from sklearn.preprocessing import PolynomialFeatures\n",
    "\n",
    "from ipywidgets import interact\n",
    "\n",
    "np.random.seed(1234)"
   ]
  },
  {
   "cell_type": "code",
   "execution_count": 4,
   "metadata": {},
   "outputs": [],
   "source": [
    "def create_toy_data(func, sample_size, std, domain=[0, 1]):\n",
    "    x = np.linspace(domain[0], domain[1], sample_size)\n",
    "    np.random.shuffle(x)\n",
    "    t = func(x) + np.random.normal(scale=std, size=x.shape)\n",
    "    return x, t"
   ]
  },
  {
   "cell_type": "code",
   "execution_count": 5,
   "metadata": {},
   "outputs": [],
   "source": [
    "def computeCost(X, y, w):\n",
    "    m = len(y)\n",
    "    J = 0\n",
    "    \n",
    "    h = X @ w\n",
    "    \n",
    "    J = 1/(2*m)*np.sum(np.square(h-y))\n",
    "    \n",
    "    return(J)"
   ]
  },
  {
   "cell_type": "code",
   "execution_count": 6,
   "metadata": {},
   "outputs": [],
   "source": [
    "def sinusoidal(x):\n",
    "    return np.sin(2 * np.pi * x)\n",
    "\n",
    "x_train, y_train = create_toy_data(sinusoidal, 10, 0.25)\n",
    "x_test = np.linspace(0, 1, 100)\n",
    "y_test = sinusoidal(x_test)"
   ]
  },
  {
   "cell_type": "code",
   "execution_count": 7,
   "metadata": {},
   "outputs": [
    {
     "data": {
      "image/png": "[encoded data removed]",
      "text/plain": [
       "<Figure size 432x288 with 1 Axes>"
      ]
     },
     "metadata": {
      "needs_background": "light"
     },
     "output_type": "display_data"
    }
   ],
   "source": [
    "# plot generated data above\n",
    "plt.scatter(x_train, y_train, facecolor=\"none\", edgecolor=\"b\", s=50, label=\"training data\")\n",
    "plt.plot(x_test, y_test, label=\"$\\sin(2\\pi x)$\")\n",
    "plt.legend()\n",
    "plt.show()"
   ]
  },
  {
   "cell_type": "code",
   "execution_count": 8,
   "metadata": {},
   "outputs": [
    {
     "data": {
      "application/vnd.jupyter.widget-view+json": {
       "model_id": "d2127ae8f3314ccf92adc7573830f81e",
       "version_major": 2,
       "version_minor": 0
      },
      "text/plain": [
       "interactive(children=(Dropdown(description='alpha', options=(0, 1e-05, 0.0001, 0.001, 0.003, 0.1), value=0), O…"
      ]
     },
     "metadata": {},
     "output_type": "display_data"
    }
   ],
   "source": [
    "@interact\n",
    "def linear_regression_normal_eq(alpha = [0, 0.00001, 0.0001, 0.001, 0.003, 0.1]):\n",
    "    X_train = PolynomialFeatures(11).fit_transform(x_train.reshape(-1,1))\n",
    "    X_test = PolynomialFeatures(11).fit_transform(x_test.reshape(-1,1))\n",
    "    w = np.linalg.solve(alpha * np.eye(np.size(X_train, 1)) + X_train.T @ X_train, X_train.T @ y_train)\n",
    "    y = X_test @ w\n",
    "    \n",
    "    m = len(y)\n",
    "    cost = (1/(2*m)) * np.sum((y - y_test)**2)\n",
    "    print(cost)\n",
    "    print(computeCost(X_test, y_test, w))\n",
    "    print(w)\n",
    "    plt.scatter(x_train, y_train, facecolor=\"none\", edgecolor=\"b\", s=50, label=\"training data\")\n",
    "    plt.plot(x_test, y_test, label=\"$\\sin(2\\pi x)$\")\n",
    "    plt.plot(x_test, y, label=\"prediction\")\n",
    "    plt.legend()\n",
    "    plt.show()\n"
   ]
  },
  {
   "cell_type": "code",
   "execution_count": 9,
   "metadata": {},
   "outputs": [],
   "source": [
    "def gradientDescent(X, y, learning_rate=0.1, alpha=0.01, num_iters=150000):\n",
    "    m = len(y)\n",
    "    w = np.zeros(X.shape[1])\n",
    "    J_history = np.zeros(num_iters)\n",
    "    \n",
    "    for iter in np.arange(num_iters):\n",
    "        h = X @ w\n",
    "        w = w - learning_rate*(1/m)*(X.T @ (h-y)) - alpha*(1/m)*w\n",
    "        J_history[iter] = computeCost(X, y, w)\n",
    "    return(w, J_history)"
   ]
  },
  {
   "cell_type": "code",
   "execution_count": 16,
   "metadata": {},
   "outputs": [
    {
     "data": {
      "application/vnd.jupyter.widget-view+json": {
       "model_id": "d00931e743f2445eac8b4d42aabc09eb",
       "version_major": 2,
       "version_minor": 0
      },
      "text/plain": [
       "interactive(children=(Dropdown(description='alpha', options=(0, 1e-05, 0.0001, 0.001, 0.01, 0.1, 0.3), value=0…"
      ]
     },
     "metadata": {},
     "output_type": "display_data"
    }
   ],
   "source": [
    "x_train1, y_train1 = create_toy_data(sinusoidal, 5, 0.45)\n",
    "x_test1 = np.linspace(0, 1, 100)\n",
    "y_test1 = sinusoidal(x_test1)\n",
    "\n",
    "@interact\n",
    "def linear_regression_GD(alpha = [0, 0.00001, 0.0001, 0.001, 0.01, 0.1, 0.3]):\n",
    "    X_train1 = PolynomialFeatures(11).fit_transform(x_train1.reshape(-1,1))\n",
    "    X_test1 = PolynomialFeatures(11).fit_transform(x_test1.reshape(-1,1))\n",
    "    w , Cost_J = gradientDescent(X_train1, y_train1, alpha=alpha)\n",
    "\n",
    "    #plt.plot(Cost_J)\n",
    "    #plt.ylabel('Cost J')\n",
    "    #plt.xlabel('Iterations');\n",
    "\n",
    "    print(computeCost(X_test1, y_test1, w))\n",
    "\n",
    "    y = X_test1 @ w\n",
    "    plt.scatter(x_train1, y_train1, facecolor=\"none\", edgecolor=\"b\", s=50, label=\"training data\")\n",
    "    plt.plot(x_test1, y_test1, label=\"$\\sin(2\\pi x)$\")\n",
    "    plt.plot(x_test1, y, label=\"prediction\")\n",
    "    plt.legend()\n",
    "    plt.show()"
   ]
  },
  {
   "cell_type": "code",
   "execution_count": 17,
   "metadata": {},
   "outputs": [],
   "source": [
    "def stochasticGradientDescent(X, y, learning_rate=0.1, alpha=0.01, num_iters=150000):\n",
    "    m = len(y)\n",
    "    w = np.zeros(X.shape[1])\n",
    "    J_history = np.zeros(num_iters)\n",
    "    \n",
    "    for iter in np.arange(num_iters):\n",
    "        for i in range (m):\n",
    "            h = X[i,:] @ w\n",
    "            w = w - learning_rate*(1/m)*(X[i,:].T @ (h-y)) - alpha*(1/m)*w\n",
    "            J_history[iter] = computeCost(X, y, w)\n",
    "    return(w, J_history)"
   ]
  },
  {
   "cell_type": "code",
   "execution_count": 18,
   "metadata": {},
   "outputs": [
    {
     "data": {
      "application/vnd.jupyter.widget-view+json": {
       "model_id": "ebda9d14d3c448ae80fa941aec52aa09",
       "version_major": 2,
       "version_minor": 0
      },
      "text/plain": [
       "interactive(children=(Dropdown(description='alpha', options=(0, 1e-05, 0.0001, 0.001, 0.01, 0.1, 0.3), value=0…"
      ]
     },
     "metadata": {},
     "output_type": "display_data"
    }
   ],
   "source": [
    "x_train2, y_train2 = create_toy_data(sinusoidal, 5, 0.45)\n",
    "x_test2 = np.linspace(0, 1, 100)\n",
    "y_test2 = sinusoidal(x_test1)\n",
    "\n",
    "@interact\n",
    "def linear_regression_SGD(alpha = [0, 0.00001, 0.0001, 0.001, 0.01, 0.1, 0.3]):\n",
    "    X_train2 = PolynomialFeatures(11).fit_transform(x_train2.reshape(-1,1))\n",
    "    X_test2 = PolynomialFeatures(11).fit_transform(x_test2.reshape(-1,1))\n",
    "    w , Cost_J = gradientDescent(X_train2, y_train2, alpha=alpha)\n",
    "\n",
    "    #plt.plot(Cost_J)\n",
    "    #plt.ylabel('Cost J')\n",
    "    #plt.xlabel('Iterations');\n",
    "\n",
    "    print(computeCost(X_test2, y_test2, w))\n",
    "\n",
    "    y = X_test2 @ w\n",
    "    plt.scatter(x_train2, y_train2, facecolor=\"none\", edgecolor=\"b\", s=50, label=\"training data\")\n",
    "    plt.plot(x_test2, y_test2, label=\"$\\sin(2\\pi x)$\")\n",
    "    plt.plot(x_test2, y, label=\"prediction\")\n",
    "    plt.legend()\n",
    "    plt.show()"
   ]
  },
  {
   "cell_type": "code",
   "execution_count": null,
   "metadata": {},
   "outputs": [],
   "source": []
  }
 ],
 "metadata": {
  "kernelspec": {
   "display_name": "Python 3",
   "language": "python",
   "name": "python3"
  },
  "language_info": {
   "codemirror_mode": {
    "name": "ipython",
    "version": 3
   },
   "file_extension": ".py",
   "mimetype": "text/x-python",
   "name": "python",
   "nbconvert_exporter": "python",
   "pygments_lexer": "ipython3",
   "version": "3.7.4"
  }
 },
 "nbformat": 4,
 "nbformat_minor": 4
}
